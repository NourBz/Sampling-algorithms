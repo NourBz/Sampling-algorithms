{
 "cells": [
  {
   "cell_type": "code",
   "execution_count": 151,
   "id": "104c3948",
   "metadata": {},
   "outputs": [],
   "source": [
    "import numpy as np\n",
    "import pandas as pd\n",
    "import matplotlib.pyplot as plt\n",
    "from scipy import signal\n",
    "from scipy import integrate\n",
    "import scipy.integrate as integrate\n",
    "from tqdm import tqdm\n",
    "import statistics\n",
    "import corner"
   ]
  },
  {
   "cell_type": "code",
   "execution_count": 152,
   "id": "f622a438",
   "metadata": {},
   "outputs": [
    {
     "name": "stdout",
     "output_type": "stream",
     "text": [
      "    Unnamed: 0    zb_dl  zb_true_dl      dlb_dl   dlberr_dl\n",
      "0            0  0.12125     0.12052   581.51438   10.472995\n",
      "1            1  0.21121     0.21044  1074.33456   12.967163\n",
      "2            2  0.37076     0.37055  2053.61703   64.216697\n",
      "3            3  0.25726     0.25884  1367.00135   66.805290\n",
      "4            4  0.09996     0.09821   478.33361   60.393946\n",
      "..         ...      ...         ...         ...         ...\n",
      "90          90  0.25659     0.25687  1367.00135  126.242450\n",
      "91          91  0.09263     0.09014   427.64956   12.474550\n",
      "92          92  0.12901     0.12979   633.99673   61.574080\n",
      "93          93  0.23043     0.23075  1189.85641   47.154152\n",
      "94          94  0.32962     0.33014  1797.47822   35.536180\n",
      "\n",
      "[95 rows x 5 columns]\n"
     ]
    }
   ],
   "source": [
    "df = pd.DataFrame(pd.read_csv(r'catalogue_out.csv'))\n",
    "print(df)"
   ]
  },
  {
   "cell_type": "code",
   "execution_count": 153,
   "id": "866d6328",
   "metadata": {},
   "outputs": [
    {
     "name": "stdout",
     "output_type": "stream",
     "text": [
      "    Unnamed: 0    zb_dl  zb_true_dl      dlb_dl   dlberr_dl\n",
      "30          30  0.00896     0.00981    44.89369    1.083196\n",
      "38          38  0.04918     0.05000   231.12517    2.651061\n",
      "21          21  0.06009     0.06003   279.30983   11.529917\n",
      "27          27  0.08914     0.08840   427.64956   41.251119\n",
      "91          91  0.09263     0.09014   427.64956   12.474550\n",
      "..         ...      ...         ...         ...         ...\n",
      "25          25  0.36800     0.37174  2053.61703  119.397467\n",
      "2            2  0.37076     0.37055  2053.61703   64.216697\n",
      "71          71  0.37119     0.36623  2053.61703  169.444186\n",
      "28          28  0.37878     0.37927  2118.74751   86.423812\n",
      "88          88  0.38868     0.38863  2184.30519   66.599612\n",
      "\n",
      "[95 rows x 5 columns]\n"
     ]
    }
   ],
   "source": [
    "df.sort_values([\"zb_dl\"],axis=0, ascending=True,inplace=True,na_position='first')\n",
    "print(df)"
   ]
  },
  {
   "cell_type": "code",
   "execution_count": 154,
   "id": "7f4ff41e",
   "metadata": {},
   "outputs": [],
   "source": [
    "data_z_err = df['zb_dl'].to_numpy()\n",
    "data_z = df['zb_true_dl'].to_numpy()\n",
    "data_dl = df['dlb_dl'].to_numpy()\n",
    "delta_dl = df['dlberr_dl'].to_numpy()\n",
    "\n",
    "delta_z = np.absolute(data_z-data_z_err)"
   ]
  },
  {
   "cell_type": "code",
   "execution_count": 155,
   "id": "10e50a4d",
   "metadata": {},
   "outputs": [
    {
     "data": {
      "text/plain": [
       "Text(0.5, 0, '$z$')"
      ]
     },
     "execution_count": 155,
     "metadata": {},
     "output_type": "execute_result"
    },
    {
     "data": {
      "image/png": "[encoded data removed]",
      "text/plain": [
       "<Figure size 640x480 with 1 Axes>"
      ]
     },
     "metadata": {},
     "output_type": "display_data"
    }
   ],
   "source": [
    "plt.plot(data_z,data_dl, color=\"orange\")\n",
    "plt.errorbar(data_z, data_dl, yerr=delta_dl,fmt ='+', color=\"darkred\")\n",
    "plt.errorbar(data_z, data_dl, xerr=delta_z,fmt ='+', color=\"blue\")\n",
    "plt.ylabel(\"$d_L$\")\n",
    "plt.xlabel(\"$z$\")"
   ]
  },
  {
   "cell_type": "code",
   "execution_count": 156,
   "id": "79587ac1",
   "metadata": {},
   "outputs": [],
   "source": [
    "def llike(data_dl, data_z, H0_prop, omega_prop, delta_dl, N_obs):\n",
    "    \n",
    "    c = 3e5\n",
    "\n",
    "    func = 1/(np.sqrt(omega_prop*((data_z+1)**3)+1-omega_prop))\n",
    "    \n",
    "    integ = integrate.cumtrapz(func, data_z, initial = 0) \n",
    "    \n",
    "    init_point = 0.5*data_z[0]*(func[0] + 1)\n",
    "    first_term = -(N_obs/2) * np.log(2 * np.pi) - np.log(np.prod(delta_dl))\n",
    "    second_term = -np.sum((1/(2 * delta_dl**2)) * (data_dl - ((c/H0_prop)*((1+data_z)*(integ + init_point))))**2)\n",
    "    \n",
    "\n",
    "    return(first_term + second_term)"
   ]
  },
  {
   "cell_type": "code",
   "execution_count": 157,
   "id": "154d0ba9",
   "metadata": {},
   "outputs": [],
   "source": [
    "def lprior_uniform(param, param_low_val, param_high_val):\n",
    "    \"\"\"\n",
    "    Set uniform priors on parameters with select ranges.\n",
    "    \"\"\"\n",
    "    if param < param_low_val or param > param_high_val:\n",
    "        return -np.inf\n",
    "    else:\n",
    "        return 0"
   ]
  },
  {
   "cell_type": "code",
   "execution_count": 158,
   "id": "7e64a550",
   "metadata": {},
   "outputs": [],
   "source": [
    "def lpost(data_dl, data_z, H0_prop, omega_prop, delta_dl, N_obs, param1, param2, \n",
    "          param1_low_range = 0, param1_high_range = 100, \n",
    "          param2_low_range = 0, param2_high_range = 10):\n",
    "    '''\n",
    "    Compute log posterior - require log likelihood and log prior.\n",
    "    '''\n",
    "    return(lprior_uniform(param1, param1_low_range, param1_high_range) \n",
    "           +lprior_uniform(param2, param2_low_range, param2_high_range) \n",
    "           + llike(data_dl, data_z, H0_prop, omega_prop, delta_dl, N_obs))"
   ]
  },
  {
   "cell_type": "code",
   "execution_count": 159,
   "id": "f73052a0",
   "metadata": {},
   "outputs": [],
   "source": [
    "def accept_reject(lp_prop, lp_prev):\n",
    "    '''\n",
    "    Compute log acceptance probability (minimum of 0 and log acceptance rate)\n",
    "    Decide whether to accept (1) or reject (0)\n",
    "    '''\n",
    "    u = np.random.uniform(size = 1)  # U[0, 1]\n",
    "    logalpha = np.minimum(0, lp_prop - lp_prev)  # log acceptance probability\n",
    "    if np.log(u) < logalpha:\n",
    "        return(1)  # Accept\n",
    "    else:\n",
    "        return(0)  # Reject"
   ]
  },
  {
   "cell_type": "code",
   "execution_count": 160,
   "id": "a34f65cc",
   "metadata": {},
   "outputs": [],
   "source": [
    "def MCMC_run(data_dl, data_z, delta_dl, Ntotal, burnin, N_obs, param_start, H0_var_prop, omega_var_prop, printerval):\n",
    "    '''\n",
    "    Metropolis MCMC sampler\n",
    "    '''\n",
    "\n",
    "    # Set starting values\n",
    "\n",
    "    H0_chain = [param_start[0]]\n",
    "    omega_chain = [param_start[1]]\n",
    "                                           \n",
    "    # Initial value for log posterior\n",
    "    lp = []\n",
    "    lp.append(lpost(data_dl, data_z, H0_chain[0], omega_chain[0], delta_dl, N_obs, H0_chain[0], omega_chain[0])) # Append first value of log posterior \n",
    "    \n",
    "    lp_store = lp[0]  # Create log posterior storage to be overwritten\n",
    "\n",
    "    #####                                                  \n",
    "    # Run MCMC\n",
    "    #####\n",
    "    accept_reject_count = [1]\n",
    "\n",
    "    for i in tqdm(range(1, Ntotal)):\n",
    "        \n",
    "        if i % printerval == 0: # Print accept/reject ratio.\n",
    "            # tqdm.write(\"Iteration \", i, \"accept_reject =\",sum(accept_reject_count)/len(accept_reject_count))\n",
    "            accept_reject_ratio = sum(accept_reject_count)/len(accept_reject_count)\n",
    "            tqdm.write(\"Iteration {0}, accept_reject = {1}\".format(i,accept_reject_ratio))\n",
    "            # print(\"Iteration \", i, \"accept_reject =\",sum(accept_reject_count)/len(accept_reject_count))\n",
    "            \n",
    "        lp_prev = lp_store  # Call previous stored log posterior\n",
    "        \n",
    "        # Propose new points according to a normal proposal distribution of fixed variance \n",
    "        \n",
    "        H0_prop = np.random.normal(H0_chain[i - 1], np.sqrt(H0_var_prop))\n",
    "        omega_prop = np.random.normal(omega_chain[i - 1], np.sqrt(omega_var_prop))\n",
    "#         omega_prop = 0.3\n",
    "        # Compute log posterior\n",
    "        lp_prop = lpost(data_dl, data_z, H0_prop, omega_prop, delta_dl, N_obs, H0_prop, omega_prop)\n",
    "        \n",
    "        if accept_reject(lp_prop, lp_prev) == 1:  # Accept\n",
    "            H0_chain.append(H0_prop)    # accept H0_{prop} as new sample\n",
    "            omega_chain.append(omega_prop)      # accept omega_{prop} as new sample\n",
    "            accept_reject_count.append(1)\n",
    "            lp_store = lp_prop  # Overwrite lp_store\n",
    "            \n",
    "        else:  # Reject, if this is the case we use previously accepted values\n",
    "            H0_chain.append(H0_chain[i - 1])\n",
    "            omega_chain.append(omega_chain[i - 1])\n",
    "            accept_reject_count.append(0)\n",
    "\n",
    "        lp.append(lp_store)\n",
    "    \n",
    "    # Recast as np.arrays\n",
    "\n",
    "    H0_chain = np.array(H0_chain)\n",
    "    omega_chain = np.array(omega_chain)\n",
    "    \n",
    "    H0_chain = H0_chain[burnin:]\n",
    "    omega_chain = omega_chain[burnin:]\n",
    "\n",
    "    \n",
    "    return H0_chain, omega_chain, lp  # Return chains and log posterior."
   ]
  },
  {
   "cell_type": "code",
   "execution_count": 161,
   "id": "528fa22f",
   "metadata": {},
   "outputs": [],
   "source": [
    "param_start =[60, 0.5]\n",
    "Ntotal = 150000 # Total number of iterations\n",
    "burnin = 70000  # Set burn-in. This is the amount of samples we will discard whilst looking \n",
    "                # for the true parameters\n",
    "H0_var_prop = 0.540380095833388**2\n",
    "omega_var_prop = 0.052154731554305084**2\n",
    "printerval = 100000\n",
    "\n",
    "N_obs = len(data_z)"
   ]
  },
  {
   "cell_type": "code",
   "execution_count": 162,
   "id": "ecb766b6",
   "metadata": {},
   "outputs": [
    {
     "name": "stderr",
     "output_type": "stream",
     "text": [
      " 70%|█████████████████████████████████████████████████████████▍                        | 105136/149999 [00:06<00:02, 17092.77it/s]"
     ]
    },
    {
     "name": "stdout",
     "output_type": "stream",
     "text": [
      "Iteration 100000, accept_reject = 0.35015\n"
     ]
    },
    {
     "name": "stderr",
     "output_type": "stream",
     "text": [
      "100%|██████████████████████████████████████████████████████████████████████████████████| 149999/149999 [00:08<00:00, 17148.81it/s]\n"
     ]
    }
   ],
   "source": [
    "H0_chain, omega_chain, lp = MCMC_run(data_dl, data_z, delta_dl, Ntotal, burnin, N_obs,\n",
    "                           param_start, H0_var_prop, omega_var_prop, printerval)"
   ]
  },
  {
   "cell_type": "code",
   "execution_count": 163,
   "id": "8bd4acca",
   "metadata": {},
   "outputs": [
    {
     "name": "stdout",
     "output_type": "stream",
     "text": [
      "mean of H0 = 67.24383491928457 _ standard deviation of H0 = 0.5797532350382048\n",
      "mean of omega = 0.32832204635681456 _ standard deviation of omega = 0.055930733138773045\n"
     ]
    },
    {
     "data": {
      "image/png": "[encoded data removed]",
      "text/plain": [
       "<Figure size 550x550 with 4 Axes>"
      ]
     },
     "metadata": {},
     "output_type": "display_data"
    }
   ],
   "source": [
    "#plt.hist(H0_chain, bins = 60, color = 'turquoise', edgecolor = 'darkcyan', alpha = 0.75)\n",
    "#plt.hist(omega_chain, bins = 60, color = 'purple', edgecolor = 'rebeccapurple', alpha = 0.75)\n",
    "\n",
    "ma = statistics.mean(H0_chain)\n",
    "sda = statistics.stdev(H0_chain)\n",
    "\n",
    "mb = statistics.mean(omega_chain)\n",
    "sdb = statistics.stdev(omega_chain)\n",
    "\n",
    "\n",
    "print(\"mean of H0 =\", ma, '_', \"standard deviation of H0 =\", sda)\n",
    "print(\"mean of omega =\", mb, '_', \"standard deviation of omega =\", sdb)\n",
    "\n",
    "samples = np.column_stack([H0_chain,omega_chain])\n",
    "\n",
    "params = [r\"$H_0$\", r\"$\\Omega_m$\"]\n",
    "\n",
    "figure = corner.corner(samples, bins = 30, color = 'blue', labels = params, \n",
    "                plot_datapoints = False, smooth1d = True, smooth = True, quantiles=[0.16, 0.5, 0.84],\n",
    "                show_titles = True, label_kwargs = {\"fontsize\":12}, title_fmt='.2f',title_kwargs={\"fontsize\": 12})\n",
    "\n",
    "axes = np.array(figure.axes).reshape((2, 2))\n",
    "\n",
    "m = [ma, mb]\n",
    "\n",
    "for yi in range(2):\n",
    "    for xi in range(yi):\n",
    "        ax = axes[yi, xi]\n",
    "        ax.axvline(m[xi], color=\"r\")\n",
    "        ax.axhline(m[yi], color=\"r\")\n",
    "        ax.plot(m[xi], m[yi], \"sr\")"
   ]
  },
  {
   "cell_type": "code",
   "execution_count": null,
   "id": "3f8d6634",
   "metadata": {},
   "outputs": [],
   "source": []
  },
  {
   "cell_type": "code",
   "execution_count": 131,
   "id": "d927e13b",
   "metadata": {},
   "outputs": [],
   "source": [
    "data_z = data_z[:90]\n",
    "data_dl = data_dl[:90]\n",
    "delta_dl = delta_dl[:90]\n",
    "data_z_err = data_z_err[:90]\n",
    "delta_z = delta_z[:90]"
   ]
  }
 ],
 "metadata": {
  "kernelspec": {
   "display_name": "cosmolisa_env",
   "language": "python",
   "name": "cosmolisa_env"
  },
  "language_info": {
   "codemirror_mode": {
    "name": "ipython",
    "version": 3
   },
   "file_extension": ".py",
   "mimetype": "text/x-python",
   "name": "python",
   "nbconvert_exporter": "python",
   "pygments_lexer": "ipython3",
   "version": "3.9.16"
  }
 },
 "nbformat": 4,
 "nbformat_minor": 5
}
