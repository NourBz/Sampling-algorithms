{
 "cells": [
  {
   "cell_type": "code",
   "execution_count": 45,
   "id": "659a67e9",
   "metadata": {},
   "outputs": [],
   "source": [
    "import numpy as np\n",
    "import matplotlib.pyplot as plt\n",
    "from scipy import signal\n",
    "import scipy.integrate as integrate\n",
    "from tqdm import tqdm\n",
    "import statistics\n",
    "import corner"
   ]
  },
  {
   "cell_type": "code",
   "execution_count": 118,
   "id": "33dca820",
   "metadata": {},
   "outputs": [],
   "source": [
    "data_dl  = np.array([0, 5085.7516])\n",
    "\n",
    "delta_dl = np.array([1e-14, 63.571895])\n",
    "\n",
    "data_z   = np.array([0,0.8])"
   ]
  },
  {
   "cell_type": "code",
   "execution_count": 192,
   "id": "b80f1033",
   "metadata": {},
   "outputs": [
    {
     "data": {
      "text/plain": [
       "Text(0.5, 0, '$z$')"
      ]
     },
     "execution_count": 192,
     "metadata": {},
     "output_type": "execute_result"
    },
    {
     "data": {
      "image/png": "[encoded data removed]",
      "text/plain": [
       "<Figure size 640x480 with 1 Axes>"
      ]
     },
     "metadata": {},
     "output_type": "display_data"
    }
   ],
   "source": [
    "plt.plot(data_z,data_dl, color=\"orange\")\n",
    "plt.errorbar(data_z, data_dl, yerr=delta_dl,fmt ='+', color=\"darkred\")\n",
    "plt.ylabel(\"$d_L$\")\n",
    "plt.xlabel(\"$z$\")"
   ]
  },
  {
   "cell_type": "code",
   "execution_count": 193,
   "id": "085b8275",
   "metadata": {},
   "outputs": [],
   "source": [
    "def llike(data_dl, data_z, H0_prop, delta_dl, N_obs):\n",
    "\n",
    "    c = 3e5\n",
    "    omega = 0.274\n",
    "\n",
    "    func = 1/(np.sqrt(omega*((data_z+1)**3)+1-omega))\n",
    "    \n",
    "    integ = integrate.cumtrapz(func, data_z, initial = 0) \n",
    "    \n",
    "    init_point = 0.5*0*(func[0] + 1)\n",
    "    first_term = -(N_obs/2) * np.log(2 * np.pi) - np.log(np.prod(delta_dl))\n",
    "    second_term = -np.sum((1/(2 * delta_dl**2)) * (data_dl - ((c/H0_prop)*((1+data_z)*(integ + init_point))))**2)\n",
    "    \n",
    "\n",
    "    return(first_term + second_term)"
   ]
  },
  {
   "cell_type": "code",
   "execution_count": 194,
   "id": "f8eca2dd",
   "metadata": {},
   "outputs": [],
   "source": [
    "def lprior_uniform(param, param_low_val, param_high_val):\n",
    "    \"\"\"\n",
    "    Set uniform priors on parameters with select ranges.\n",
    "    \"\"\"\n",
    "    if param < param_low_val or param > param_high_val:\n",
    "        return -np.inf\n",
    "    else:\n",
    "        return 0"
   ]
  },
  {
   "cell_type": "code",
   "execution_count": 195,
   "id": "379ae7ec",
   "metadata": {},
   "outputs": [],
   "source": [
    "def lpost(data_dl, data_z, H0_prop, delta_dl, N_obs, param1, param1_low_range = 30, param1_high_range = 100):\n",
    "    '''\n",
    "    Compute log posterior - require log likelihood and log prior.\n",
    "    '''\n",
    "    return(lprior_uniform(param1, param1_low_range, param1_high_range) \n",
    "           + llike(data_dl, data_z, H0_prop, delta_dl, N_obs))"
   ]
  },
  {
   "cell_type": "code",
   "execution_count": 196,
   "id": "dffd836d",
   "metadata": {},
   "outputs": [],
   "source": [
    "def accept_reject(lp_prop, lp_prev):\n",
    "    '''\n",
    "    Compute log acceptance probability (minimum of 0 and log acceptance rate)\n",
    "    Decide whether to accept (1) or reject (0)\n",
    "    '''\n",
    "    u = np.random.uniform(size = 1)  # U[0, 1]\n",
    "    logalpha = np.minimum(0, lp_prop - lp_prev)  # log acceptance probability\n",
    "    if np.log(u) < logalpha:\n",
    "        return(1)  # Accept\n",
    "    else:\n",
    "        return(0)  # Reject"
   ]
  },
  {
   "cell_type": "code",
   "execution_count": 197,
   "id": "7d1fb22e",
   "metadata": {},
   "outputs": [],
   "source": [
    "def MCMC_run(data_dl, data_z, delta_dl, Ntotal, burnin, N_obs, param_start, H0_var_prop, printerval):\n",
    "    '''\n",
    "    Metropolis MCMC sampler\n",
    "    '''\n",
    "\n",
    "    # Set starting values\n",
    "\n",
    "    H0_chain = [param_start[0]]\n",
    "                                           \n",
    "    # Initial value for log posterior\n",
    "    lp = []\n",
    "    lp.append(lpost(data_dl, data_z, H0_chain[0], delta_dl, N_obs, H0_chain[0])) # Append first value of log posterior \n",
    "    \n",
    "    lp_store = lp[0]  # Create log posterior storage to be overwritten\n",
    "\n",
    "    #####                                                  \n",
    "    # Run MCMC\n",
    "    #####\n",
    "    accept_reject_count = [1]\n",
    "\n",
    "    for i in tqdm(range(1, Ntotal)):\n",
    "        \n",
    "        if i % printerval == 0: # Print accept/reject ratio.\n",
    "            # tqdm.write(\"Iteration \", i, \"accept_reject =\",sum(accept_reject_count)/len(accept_reject_count))\n",
    "            accept_reject_ratio = sum(accept_reject_count)/len(accept_reject_count)\n",
    "            tqdm.write(\"Iteration {0}, accept_reject = {1}\".format(i,accept_reject_ratio))\n",
    "            # print(\"Iteration \", i, \"accept_reject =\",sum(accept_reject_count)/len(accept_reject_count))\n",
    "            \n",
    "        lp_prev = lp_store  # Call previous stored log posterior\n",
    "        \n",
    "        # Propose new points according to a normal proposal distribution of fixed variance \n",
    "\n",
    "        H0_prop = np.random.normal(H0_chain[i - 1], np.sqrt(H0_var_prop))\n",
    "    \n",
    "        # Compute log posterior\n",
    "        lp_prop = lpost(data_dl, data_z, H0_prop, delta_dl, N_obs, H0_prop)\n",
    "        \n",
    "        if accept_reject(lp_prop, lp_prev) == 1:  # Accept\n",
    "            H0_chain.append(H0_prop)    # accept H0_{prop} as new sample\n",
    "            accept_reject_count.append(1)\n",
    "            lp_store = lp_prop  # Overwrite lp_store\n",
    "            \n",
    "        else:  # Reject, if this is the case we use previously accepted values\n",
    "            H0_chain.append(H0_chain[i - 1])\n",
    "            accept_reject_count.append(0)\n",
    "\n",
    "        lp.append(lp_store)\n",
    "    \n",
    "    # Recast as np.arrays\n",
    "    H0_chain = np.array(H0_chain)\n",
    "    H0_chain = H0_chain[burnin:]\n",
    "\n",
    "    \n",
    "    return H0_chain, lp  # Return chains and log posterior."
   ]
  },
  {
   "cell_type": "code",
   "execution_count": 202,
   "id": "86ff830c",
   "metadata": {},
   "outputs": [],
   "source": [
    "param_start =[60]\n",
    "Ntotal = 100000 # Total number of iterations\n",
    "burnin = 30000  # Set burn-in. This is the amount of samples we will discard whilst looking \n",
    "                # for the true parameters\n",
    "H0_var_prop = 0.8743905288970055\n",
    "printerval = 50000\n",
    "\n",
    "N_obs = len(data_z)"
   ]
  },
  {
   "cell_type": "code",
   "execution_count": 203,
   "id": "351f68e9",
   "metadata": {},
   "outputs": [
    {
     "name": "stderr",
     "output_type": "stream",
     "text": [
      " 52%|██████████████████▏                | 51833/99999 [00:06<00:05, 8558.73it/s]"
     ]
    },
    {
     "name": "stdout",
     "output_type": "stream",
     "text": [
      "Iteration 50000, accept_reject = 0.68858\n"
     ]
    },
    {
     "name": "stderr",
     "output_type": "stream",
     "text": [
      "100%|███████████████████████████████████| 99999/99999 [00:11<00:00, 8565.76it/s]\n"
     ]
    }
   ],
   "source": [
    "H0_chain, lp = MCMC_run(data_dl, data_z, delta_dl, Ntotal, burnin, N_obs,\n",
    "                           param_start, H0_var_prop, printerval)"
   ]
  },
  {
   "cell_type": "code",
   "execution_count": 204,
   "id": "f57afb95",
   "metadata": {},
   "outputs": [
    {
     "data": {
      "text/plain": [
       "70000"
      ]
     },
     "execution_count": 204,
     "metadata": {},
     "output_type": "execute_result"
    }
   ],
   "source": [
    "len(H0_chain)"
   ]
  },
  {
   "cell_type": "code",
   "execution_count": 205,
   "id": "f62b0b10",
   "metadata": {},
   "outputs": [
    {
     "name": "stdout",
     "output_type": "stream",
     "text": [
      "mean of H0 = 70.14608394073623 _ standard deviation of H0 = 0.8768553636350244\n"
     ]
    },
    {
     "data": {
      "image/png": "[encoded data removed]",
      "text/plain": [
       "<Figure size 640x480 with 1 Axes>"
      ]
     },
     "metadata": {},
     "output_type": "display_data"
    },
    {
     "data": {
      "image/png": "[encoded data removed]",
      "text/plain": [
       "<Figure size 340x340 with 1 Axes>"
      ]
     },
     "metadata": {},
     "output_type": "display_data"
    }
   ],
   "source": [
    "plt.hist(H0_chain, bins = 45, color = 'turquoise', edgecolor = 'darkcyan', alpha = 0.75)\n",
    "\n",
    "ma = statistics.mean(H0_chain)\n",
    "sda = statistics.stdev(H0_chain)\n",
    "\n",
    "print(\"mean of H0 =\", ma, '_', \"standard deviation of H0 =\", sda)\n",
    "\n",
    "samples = np.column_stack([H0_chain])\n",
    "\n",
    "params = [r\"$H_0$\"]\n",
    "\n",
    "figure = corner.corner(samples, bins = 30, color = 'rebeccapurple', labels = params, \n",
    "                plot_datapoints = True, smooth1d = True, smooth = True, quantiles=[0.16, 0.5, 0.84],\n",
    "                show_titles = True, label_kwargs = {\"fontsize\":12}, title_fmt='.2f',title_kwargs={\"fontsize\": 12})"
   ]
  },
  {
   "cell_type": "code",
   "execution_count": 156,
   "id": "f81d81ca",
   "metadata": {},
   "outputs": [],
   "source": [
    "from astropy.cosmology import FlatLambdaCDM\n",
    ">>> cosmo = FlatLambdaCDM(H0=70, Om0=0.274)\n"
   ]
  },
  {
   "cell_type": "code",
   "execution_count": 157,
   "id": "c211ddb6",
   "metadata": {},
   "outputs": [
    {
     "data": {
      "text/latex": [
       "$5085.7516 \\; \\mathrm{Mpc}$"
      ],
      "text/plain": [
       "<Quantity 5085.75157009 Mpc>"
      ]
     },
     "execution_count": 157,
     "metadata": {},
     "output_type": "execute_result"
    }
   ],
   "source": [
    "cosmo.luminosity_distance(0.8)  "
   ]
  },
  {
   "cell_type": "code",
   "execution_count": 161,
   "id": "2951425d",
   "metadata": {},
   "outputs": [
    {
     "data": {
      "text/plain": [
       "101.715032"
      ]
     },
     "execution_count": 161,
     "metadata": {},
     "output_type": "execute_result"
    }
   ],
   "source": [
    "5085.7516/50"
   ]
  },
  {
   "cell_type": "code",
   "execution_count": 189,
   "id": "b6949154",
   "metadata": {},
   "outputs": [
    {
     "data": {
      "text/plain": [
       "63.571895"
      ]
     },
     "execution_count": 189,
     "metadata": {},
     "output_type": "execute_result"
    }
   ],
   "source": [
    "5085.7516/80"
   ]
  },
  {
   "cell_type": "code",
   "execution_count": null,
   "id": "156dd55b",
   "metadata": {},
   "outputs": [],
   "source": []
  }
 ],
 "metadata": {
  "kernelspec": {
   "display_name": "cosmolisa_env",
   "language": "python",
   "name": "cosmolisa_env"
  },
  "language_info": {
   "codemirror_mode": {
    "name": "ipython",
    "version": 3
   },
   "file_extension": ".py",
   "mimetype": "text/x-python",
   "name": "python",
   "nbconvert_exporter": "python",
   "pygments_lexer": "ipython3",
   "version": "3.9.16"
  }
 },
 "nbformat": 4,
 "nbformat_minor": 5
}
